{
 "cells": [
  {
   "cell_type": "markdown",
   "metadata": {},
   "source": [
    "# Public Eye - Sample Version\n",
    "\n",
    "**Upload a picture of a crowd and let Public Eye count/estimate the amount of people!**\n",
    "\n",
    "This website is a slow and minimal sample version of the full Public Eye system.\n",
    "\n",
    "For more information about Public Eye, please get in touch at [crowdcounter@amsterdam.nl](mailto:crowdcounter@amsterdam.nl)."
   ]
  },
  {
   "cell_type": "code",
   "execution_count": 1,
   "metadata": {
    "ExecuteTime": {
     "end_time": "2022-10-15T10:23:52.095312Z",
     "start_time": "2022-10-15T10:23:52.067635Z"
    }
   },
   "outputs": [],
   "source": [
    "%%capture\n",
    "cd .."
   ]
  },
  {
   "cell_type": "code",
   "execution_count": 2,
   "metadata": {
    "ExecuteTime": {
     "end_time": "2022-10-15T10:23:57.733971Z",
     "start_time": "2022-10-15T10:23:52.318909Z"
    }
   },
   "outputs": [],
   "source": [
    "import os\n",
    "import math\n",
    "from tqdm.notebook import tqdm\n",
    "\n",
    "import numpy as np\n",
    "import torch\n",
    "\n",
    "from PIL import Image\n",
    "import matplotlib.pyplot as plt\n",
    "from matplotlib import cm\n",
    "\n",
    "import models.ViCCT_models\n",
    "import models.Swin_ViCCT_models\n",
    "from timm.models import create_model\n",
    "\n",
    "from datasets.dataset_utils import img_equal_split, img_equal_unsplit\n",
    "import torchvision.transforms as standard_transforms\n",
    "\n",
    "from fastai.vision.widgets import *\n",
    "from fastbook import *\n",
    "\n",
    "# from pyngrok import ngrok\n",
    "\n",
    "import gradio as gr"
   ]
  },
  {
   "cell_type": "code",
   "execution_count": 3,
   "metadata": {
    "ExecuteTime": {
     "end_time": "2022-10-15T10:23:57.748448Z",
     "start_time": "2022-10-15T10:23:57.741477Z"
    }
   },
   "outputs": [],
   "source": [
    "# # https://towardsdatascience.com/quickly-share-ml-webapps-from-google-colab-using-ngrok-for-free-ae899ca2661a\n",
    "# # Open a HTTP tunnel on the default port 80\n",
    "# public_url = ngrok.connect(port = '8888')\n",
    "# print(public_url)"
   ]
  },
  {
   "cell_type": "code",
   "execution_count": 4,
   "metadata": {
    "ExecuteTime": {
     "end_time": "2022-10-15T10:23:57.768722Z",
     "start_time": "2022-10-15T10:23:57.754939Z"
    }
   },
   "outputs": [],
   "source": [
    "# Set some parameters\n",
    "# Several parameters need to be defined to run this notebook.\n",
    "\n",
    "# First, which model will we use?\n",
    "# The generic ViCCT version 1 model is specified with 'ViCCT_base'. \n",
    "# The version 2 ViCCT model, which has Swin as its base, is specified with 'Swin_ViCCT_large_22k'.\n",
    "# model_name = 'ViCCT_base'\n",
    "model_name = 'Swin_ViCCT_large_22k'\n",
    "\n",
    "# The model is trained to perform crowd counting. We specify here where the weights of this trained model is located.\n",
    "# weights_path = 'models/trained_models/ViCCT_base_generic_1300_epochs.pth'\n",
    "weights_path = 'models/trained_models/Swin_ViCCT_large_22k_generic_1600_epochs.pth'\n",
    "\n",
    "# Some images are of extremely large resolution. When the heads in images occupy many (e.g. something like 100 x 100 \n",
    "# pixels each) pixels, the model is unable to make pretty predictions. One way to overcome this issue is to scale the image\n",
    "# by some factor. This factory is specified here. A factor of 1. means no scaling is performed.\n",
    "# scale_factor = 1.\n",
    "\n",
    "# We might want to save the predictions. Set 'save_results' to true if you want to save the prediction. Three figures are saved\n",
    "# 1) The input image for the network. 2) The network's prediction. 3) The predictions overlayed with the input.\n",
    "save_results = True\n",
    "\n",
    "# Lastly, do we use cuda? If you have cuda, it's advised to use it.\n",
    "use_cuda = True"
   ]
  },
  {
   "cell_type": "code",
   "execution_count": 5,
   "metadata": {
    "ExecuteTime": {
     "end_time": "2022-10-15T10:24:02.931332Z",
     "start_time": "2022-10-15T10:23:57.781092Z"
    }
   },
   "outputs": [
    {
     "name": "stderr",
     "output_type": "stream",
     "text": [
      "/home/jongstra/.local/lib/python3.10/site-packages/torch/functional.py:478: UserWarning: torch.meshgrid: in an upcoming release, it will be required to pass the indexing argument. (Triggered internally at  ../aten/src/ATen/native/TensorShape.cpp:2895.)\n",
      "  return _VF.meshgrid(tensors, **kwargs)  # type: ignore[attr-defined]\n"
     ]
    }
   ],
   "source": [
    "# Load model\n",
    "def load_model(model_name, weights_path, use_cuda):\n",
    "    \"\"\" Creates the model and initialised it with the weights specified. \"\"\"\n",
    "    \n",
    "    model = create_model(  # From the timm library. This function created the model specific architecture.\n",
    "    model_name,\n",
    "    init_path=weights_path,\n",
    "    pretrained_cc=True,\n",
    "    drop_rate=None if 'Swin' in model_name else 0.,  # Dropout\n",
    "\n",
    "    # Bamboozled by Facebook. This isn't drop_path_rate, but rather 'drop_connect'.\n",
    "    # I'm not yet sure what it is for the Swin version\n",
    "    drop_path_rate=None if 'Swin' in model_name else 0.,\n",
    "    drop_block_rate=None,  # Drops our entire Transformer blocks I think? Not used for ViCCT.\n",
    "    )\n",
    "\n",
    "    if use_cuda:\n",
    "        model = model.cuda()  # Place model on GPU\n",
    "    \n",
    "    model = model.eval()\n",
    "    \n",
    "    return model\n",
    "\n",
    "# print('Loading the model...')\n",
    "model = load_model(model_name, weights_path, use_cuda)"
   ]
  },
  {
   "cell_type": "code",
   "execution_count": 6,
   "metadata": {
    "ExecuteTime": {
     "end_time": "2022-10-15T10:24:02.940468Z",
     "start_time": "2022-10-15T10:24:02.932642Z"
    }
   },
   "outputs": [],
   "source": [
    "# Main Functions\n",
    "\n",
    "\n",
    "# Only for hardcore users. No need to modify these.\n",
    "mean_std = ([0.485, 0.456, 0.406], [0.229, 0.224, 0.225])  # Mean and std.dev. of ImageNet\n",
    "overlap = 32  # We ensure crops have at least this many pixels of overlap.\n",
    "ignore_buffer = 16  # When reconsturting the whole density map, ignore this many pixels on crop prediction borders.\n",
    "\n",
    "train_img_transform = standard_transforms.Compose([\n",
    "    standard_transforms.ToTensor(),\n",
    "    standard_transforms.Normalize(*mean_std)\n",
    "])\n",
    "\n",
    "\n",
    "def rescale_image(img, scale_factor):\n",
    "    # Get image dimensions\n",
    "    img_w, img_h = img.size\n",
    "    \n",
    "    # Rescale image\n",
    "    if scale_factor != 1.:\n",
    "        new_w, new_h = round(img_w * scale_factor), round(img_h * scale_factor)\n",
    "        img = img.resize((new_w, new_h))\n",
    "    \n",
    "    return img\n",
    "\n",
    "\n",
    "def prepare_loaded_image(img):\n",
    "    # Get image dimensions\n",
    "    img_w, img_h = img.size\n",
    "    \n",
    "    # Before we make the prediction, we normalise the image and split it up into crops\n",
    "    img = train_img_transform(img)\n",
    "    img_stack = img_equal_split(img, 224, overlap)  # Split the image ensuring a minimum of 'overlap' of overlap between crops.\n",
    "\n",
    "    if use_cuda:\n",
    "        img_stack = img_stack.cuda()  # Place image stack on GPU        \n",
    "\n",
    "    # This is the placeholder where we store the model predictions.\n",
    "    pred_stack = torch.zeros(img_stack.shape[0], 1, 224, 224)\n",
    "    \n",
    "    return img_stack, pred_stack, img_h, img_w\n",
    "\n",
    "\n",
    "def process_image(img_stack, pred_stack, img_h, img_w):\n",
    "    if not use_cuda and img_stack.shape[0] > 100:  # If on CPU and more than 100 image crops.\n",
    "        print('\\033[93m'\n",
    "              'WARNING: you are making a prediction on a very large image. This might take a long time! '\n",
    "              'You may want to use a lower \"Scale Factor\" value for faster processing. '\n",
    "              'You can stop a running process by pressing F5.'\n",
    "              '\\033[0m')\n",
    "\n",
    "    with torch.no_grad():  # Dont make gradients\n",
    "        print(f\"Processing {len(img_stack)} image parts.\")\n",
    "        for idx, img_crop in enumerate(tqdm(img_stack)):  # For each image crop\n",
    "            pred_stack[idx] = model.forward(img_crop.unsqueeze(0)).cpu()  # Make prediction.\n",
    "    print('Done!')\n",
    "\n",
    "\n",
    "    # Unsplit the perdiction crops to get the entire density map of the image.\n",
    "    den = img_equal_unsplit(pred_stack, overlap, ignore_buffer, img_h, img_w, 1)\n",
    "    den = den.squeeze()  # Remove the channel dimension\n",
    "\n",
    "    # Compute the perdicted count, which is the sum of the entire density map. Note that the model is trained with density maps\n",
    "    # scaled by a factor of 3000 (See sec 5.2 of my thesis for why: https://scripties.uba.uva.nl/search?id=723178). In short,\n",
    "    # This works :)\n",
    "    pred_cnt = den.sum() / 3000\n",
    "    \n",
    "    return den, pred_cnt\n",
    "\n",
    "\n",
    "def show_overlay(input_image, den, pred_cnt):\n",
    "    img_heat = np.array(input_image)\n",
    "    den_heat = den.clone().numpy()\n",
    "\n",
    "    den_heat = den_heat / 3000  # Scale values to original domain\n",
    "    den_heat[den_heat < 0] = 0  # Remove negative values\n",
    "    den_heat = den_heat / den_heat.max() # Normalise between 0 and 1\n",
    "\n",
    "    den_heat **= 0.5  # Reduce large values, increase small values\n",
    "    den_heat *= 255  # Values from 0 to 255 now\n",
    "    den_heat[den_heat < 50] = 0  # Threshold of 50\n",
    "\n",
    "    img_heat[:, :, 0][den_heat > 0] = img_heat[:, :, 0][den_heat > 0] / 2\n",
    "    img_heat[:, :, 1][den_heat > 0] = img_heat[:, :, 1][den_heat > 0] / 2\n",
    "    img_heat[:, :, 2][den_heat > 0] = den_heat[den_heat > 0]\n",
    "\n",
    "\n",
    "#     plt.figure(figsize=(1920/200, 1080/200), dpi=200)\n",
    "    plt.figure(figsize=(1440/200, 810/200), dpi=200)\n",
    "    plt.imshow(img_heat)\n",
    "    plt.title(f'Predicted count: {pred_cnt:.3f}')\n",
    "    plt.show()"
   ]
  },
  {
   "cell_type": "code",
   "execution_count": 7,
   "metadata": {
    "ExecuteTime": {
     "end_time": "2022-10-15T10:24:02.946836Z",
     "start_time": "2022-10-15T10:24:02.942304Z"
    }
   },
   "outputs": [],
   "source": [
    "def show_downscaled_res_and_processing_time(x_res, y_res, slider_val):\n",
    "    x_res_downscaled = int(x_res*slider_val)\n",
    "    y_res_downscaled = int(y_res*slider_val)\n",
    "    approximate_n_crops = round((x_res_downscaled*y_res_downscaled) / 30000) + 6 # High estimate for larger images.\n",
    "    approximate_processing_time = int(approximate_n_crops / 6.5)  # on fast server.\n",
    "    return x_res_downscaled, y_res_downscaled, approximate_processing_time"
   ]
  },
  {
   "cell_type": "code",
   "execution_count": 8,
   "metadata": {
    "ExecuteTime": {
     "end_time": "2022-10-15T10:24:02.952154Z",
     "start_time": "2022-10-15T10:24:02.948471Z"
    }
   },
   "outputs": [],
   "source": [
    "def set_scale_factor(image_input):\n",
    "    try:\n",
    "        y_res, x_res, rbg = image_input.shape\n",
    "    except AttributeError:\n",
    "        return 0, 0, 0, 0\n",
    "    min_res = min(x_res, y_res)\n",
    "    ideal_min = 2000\n",
    "    if min_res < ideal_min:\n",
    "        factor = 1\n",
    "    if min_res > ideal_min:\n",
    "        factor = round(ideal_min / min_res, 2) + 0.01\n",
    "        if factor > 1:\n",
    "            factor = 1\n",
    "            \n",
    "    _,_, approximate_processing_time = show_downscaled_res_and_processing_time(x_res, y_res, factor)\n",
    "    \n",
    "    return factor, x_res, y_res, approximate_processing_time"
   ]
  },
  {
   "cell_type": "code",
   "execution_count": 9,
   "metadata": {
    "ExecuteTime": {
     "end_time": "2022-10-15T10:24:02.957631Z",
     "start_time": "2022-10-15T10:24:02.954456Z"
    }
   },
   "outputs": [],
   "source": [
    "def show_slider_val(x):\n",
    "    return x"
   ]
  },
  {
   "cell_type": "code",
   "execution_count": 10,
   "metadata": {
    "ExecuteTime": {
     "end_time": "2022-10-15T10:24:02.965083Z",
     "start_time": "2022-10-15T10:24:02.960396Z"
    }
   },
   "outputs": [],
   "source": [
    "def create_overlay_image(input_image, den, pred_cnt):\n",
    "    img_heat = np.array(input_image)\n",
    "    den_heat = den.clone().numpy()\n",
    "\n",
    "    den_heat = den_heat / 3000  # Scale values to original domain\n",
    "    den_heat[den_heat < 0] = 0  # Remove negative values\n",
    "    den_heat = den_heat / den_heat.max() # Normalise between 0 and 1\n",
    "\n",
    "    den_heat **= 0.5  # Reduce large values, increase small values\n",
    "    den_heat *= 255  # Values from 0 to 255 now\n",
    "    den_heat[den_heat < 50] = 0  # Threshold of 50\n",
    "\n",
    "    img_heat[:, :, 0][den_heat > 0] = img_heat[:, :, 0][den_heat > 0] / 2\n",
    "    img_heat[:, :, 1][den_heat > 0] = img_heat[:, :, 1][den_heat > 0] / 2\n",
    "    img_heat[:, :, 2][den_heat > 0] = den_heat[den_heat > 0]\n",
    "\n",
    "    plt.figure(figsize=(600/200, 400/200), dpi=200)\n",
    "    plt.title(f'Predicted count: {pred_cnt:.1f}')\n",
    "    plt.imshow(img_heat)\n",
    "    \n",
    "    ax = plt.gca()\n",
    "    ax.axes.xaxis.set_visible(False)\n",
    "    ax.axes.yaxis.set_visible(False)\n",
    "    overlay_im = io.BytesIO()\n",
    "    plt.savefig(overlay_im, format='png', bbox_inches='tight')\n",
    "    overlay_im = PILImage.create(overlay_im)\n",
    "    \n",
    "    return overlay_im"
   ]
  },
  {
   "cell_type": "code",
   "execution_count": 25,
   "metadata": {
    "ExecuteTime": {
     "end_time": "2022-10-15T10:39:12.365253Z",
     "start_time": "2022-10-15T10:39:12.340655Z"
    }
   },
   "outputs": [],
   "source": [
    "def count_people(image_input, scale_factor):\n",
    "    image = PILImage.create(image_input)\n",
    "    image = rescale_image(image, scale_factor)\n",
    "    \n",
    "    w, h = image.shape\n",
    "    if w < 224 or h < 224:\n",
    "        raise gr.Error(\"Image is too small, please provide a bigger image (244x244 or larger).\")\n",
    "        return None, None, 0\n",
    "    \n",
    "    img_stack, pred_stack, img_h, img_w = prepare_loaded_image(image)\n",
    "    den, pred_cnt = process_image(img_stack, pred_stack, img_h, img_w)\n",
    "    \n",
    "    plt.figure(figsize=(600/200, 400/200), dpi=200)\n",
    "    plt.title(f'Predicted count: {pred_cnt:.1f}')\n",
    "    plt.imshow(den, cmap=cm.jet)\n",
    "    ax = plt.gca()\n",
    "    ax.axes.xaxis.set_visible(False)\n",
    "    ax.axes.yaxis.set_visible(False)\n",
    "    den_im = io.BytesIO()\n",
    "    plt.savefig(den_im, format='png', bbox_inches='tight')\n",
    "    den_im = PILImage.create(den_im)\n",
    "    \n",
    "    overlay_im = create_overlay_image(image, den, pred_cnt)\n",
    "\n",
    "    return den_im, overlay_im, round(float(pred_cnt),1)"
   ]
  },
  {
   "cell_type": "code",
   "execution_count": 26,
   "metadata": {
    "ExecuteTime": {
     "end_time": "2022-10-15T10:39:16.393031Z",
     "start_time": "2022-10-15T10:39:12.800077Z"
    },
    "scrolled": false
   },
   "outputs": [
    {
     "name": "stdout",
     "output_type": "stream",
     "text": [
      "Running on local URL:  http://127.0.0.1:7866\n",
      "\n",
      "To create a public link, set `share=True` in `launch()`.\n"
     ]
    },
    {
     "data": {
      "text/html": [
       "<div><iframe src=\"http://127.0.0.1:7866/\" width=\"900\" height=\"500\" allow=\"autoplay; camera; microphone; clipboard-read; clipboard-write;\" frameborder=\"0\" allowfullscreen></iframe></div>"
      ],
      "text/plain": [
       "<IPython.core.display.HTML object>"
      ]
     },
     "metadata": {},
     "output_type": "display_data"
    },
    {
     "data": {
      "text/plain": [
       "(<gradio.routes.App at 0x7fcb5c6e5f60>, 'http://127.0.0.1:7866/', None)"
      ]
     },
     "execution_count": 26,
     "metadata": {},
     "output_type": "execute_result"
    },
    {
     "name": "stderr",
     "output_type": "stream",
     "text": [
      "Traceback (most recent call last):\n",
      "  File \"/home/jongstra/.local/lib/python3.10/site-packages/gradio/routes.py\", line 275, in run_predict\n",
      "    output = await app.blocks.process_api(\n",
      "  File \"/home/jongstra/.local/lib/python3.10/site-packages/gradio/blocks.py\", line 785, in process_api\n",
      "    result = await self.call_function(fn_index, inputs, iterator)\n",
      "  File \"/home/jongstra/.local/lib/python3.10/site-packages/gradio/blocks.py\", line 694, in call_function\n",
      "    prediction = await anyio.to_thread.run_sync(\n",
      "  File \"/home/jongstra/.local/lib/python3.10/site-packages/anyio/to_thread.py\", line 31, in run_sync\n",
      "    return await get_asynclib().run_sync_in_worker_thread(\n",
      "  File \"/home/jongstra/.local/lib/python3.10/site-packages/anyio/_backends/_asyncio.py\", line 937, in run_sync_in_worker_thread\n",
      "    return await future\n",
      "  File \"/home/jongstra/.local/lib/python3.10/site-packages/anyio/_backends/_asyncio.py\", line 867, in run\n",
      "    result = context.run(func, *args)\n",
      "  File \"/tmp/ipykernel_9947/1948512998.py\", line 7, in count_people\n",
      "    raise gr.Error(\"Image is too small, please provide a bigger image (244x244 or larger).\")\n",
      "gradio.exceptions.Error: 'Image is too small, please provide a bigger image (244x244 or larger).'\n"
     ]
    },
    {
     "name": "stdout",
     "output_type": "stream",
     "text": [
      "Processing 16 image parts.\n"
     ]
    },
    {
     "data": {
      "application/vnd.jupyter.widget-view+json": {
       "model_id": "70f4574b1eb14094b78165e53a2543c6",
       "version_major": 2,
       "version_minor": 0
      },
      "text/plain": [
       "  0%|          | 0/16 [00:00<?, ?it/s]"
      ]
     },
     "metadata": {},
     "output_type": "display_data"
    },
    {
     "name": "stdout",
     "output_type": "stream",
     "text": [
      "Done!\n"
     ]
    }
   ],
   "source": [
    "# TODO:\n",
    "#\n",
    "# [X] Make count button work (use model, test GPU version as well)\n",
    "# [X] Put \"People Count\" result number above output image?\n",
    "# [X] Make image blocks higher in pixels (how??).\n",
    "# [X] Make \"Clear Image\" button work as expected. \n",
    "# [X] Build a catch when pressing the count_button if the (downscaled) image is of too low resolution.\n",
    "# [ ] Fix dat beelden soms upside down staan na verwerking (rotation in exif niet goed opgepakt oid?)\n",
    "# [ ] Make code nicer/better maintainable.\n",
    "\n",
    "# [-] Fix buggy sliders (scaled res klopt niet altijd na wijzigen slider op telefoon view)\n",
    "# [-] Zorgen dat croppen invloed heeft op de scale factor?\n",
    "# [X] Default resolutie gebruiken (cap: 2000px) ipv scaling slider aanbieden?\n",
    "\n",
    "import numpy as np\n",
    "import gradio as gr\n",
    "\n",
    "def reset():\n",
    "    return None, None, None, None\n",
    "    \n",
    "# demo = gr.Blocks(css=\"#output_image {height: 600px !important} #count {font-weight: bold;}\")\n",
    "\n",
    "demo = gr.Blocks(title=\"Crowd Counter\")\n",
    "\n",
    "with demo:\n",
    "    x_res = gr.Number(label=\"Original x resolution\", interactive=False, visible=False)\n",
    "    y_res = gr.Number(label=\"Original y resolution\", interactive=False, visible=False)\n",
    "    slider = gr.Slider(0.01, 1, step=0.01, value=0, label=\"Scale Factor\", visible=False)\n",
    "    x_res_downscaled = gr.Number(label=\"x res\", interactive=False, visible=False)\n",
    "    y_res_downscaled = gr.Number(label=\"y res\", interactive=False, visible=False)\n",
    "    \n",
    "    gr.Markdown(\"# Crowd Counter\")\n",
    "    gr.Markdown(\"Upload an image & count the people.\")\n",
    "    image_input = gr.Image()\n",
    "    clear_button = gr.Button(\"Reset Image\", visible=False)\n",
    "    appr_proc_time = gr.Number(label=\"Approximate Processing Time (sec)\", interactive=False)\n",
    "    \n",
    "#     with gr.Row():\n",
    "#         with gr.Column():\n",
    "#             slider = gr.Slider(0.01, 1, step=0.01, value=0, label=\"Scale Factor\", visible=False)\n",
    "#             appr_proc_time = gr.Number(label=\"Approximate Processing Time (sec)\", interactive=False)\n",
    "#         with gr.Column():\n",
    "#             x_res_downscaled = gr.Number(label=\"x res\", interactive=False, visible=False)\n",
    "#             y_res_downscaled = gr.Number(label=\"y res\", interactive=False, visible=False)\n",
    "    count_button = gr.Button(\"Count People\")\n",
    "    count_result = gr.Number(label=\"People Count\", elem_id='count', visible=False)\n",
    "    with gr.Row():\n",
    "        image_output_overlay = gr.Image(elem_id='output_image')\n",
    "        image_output = gr.Image(elem_id='output_image')\n",
    "    \n",
    "    # Interactions\n",
    "    image_input.change(fn=set_scale_factor, inputs=image_input, outputs=[slider, x_res, y_res, appr_proc_time])\n",
    "    slider.change(fn=show_downscaled_res_and_processing_time, inputs=[x_res, y_res, slider], outputs=[x_res_downscaled, y_res_downscaled, appr_proc_time])\n",
    "    count_button.click(count_people, inputs=[image_input, slider], outputs=[image_output, image_output_overlay, count_result])\n",
    "#     clear_button.click(reset, inputs=[], outputs=[image_input, count_result, image_output, image_output_overlay])\n",
    "\n",
    "    # Footer\n",
    "    gr.Markdown(\"Contact us at: [crowdcounter@amsterdam.nl](mailto:crowdcounter@amsterdam.nl)\")\n",
    "    gr.Markdown(\"Created by Thomas Jongstra 2022, for the Municipality of Amsterdam.\")\n",
    "\n",
    "\n",
    "# demo.queue()\n",
    "demo.launch(share=False)\n",
    "# demo.launch(share=True)\n",
    "# demo.launch(server_port=8800, share=False)"
   ]
  },
  {
   "cell_type": "code",
   "execution_count": null,
   "metadata": {
    "ExecuteTime": {
     "end_time": "2022-10-15T01:28:22.317822Z",
     "start_time": "2022-10-15T01:28:22.317812Z"
    }
   },
   "outputs": [],
   "source": [
    "# def show_image(image, bla):\n",
    "#     return image"
   ]
  },
  {
   "cell_type": "code",
   "execution_count": null,
   "metadata": {
    "ExecuteTime": {
     "end_time": "2022-10-15T01:28:22.318786Z",
     "start_time": "2022-10-15T01:28:22.318777Z"
    }
   },
   "outputs": [],
   "source": [
    "# demo = gr.Interface(\n",
    "#     fn = show_image,\n",
    "#     inputs = [gr.Image(type=\"pil\"), gr.Slider(0.01, 1, step=0.01, value=0.5)],\n",
    "#     outputs = [\"image\"]\n",
    "# )\n",
    "# demo.launch()"
   ]
  },
  {
   "cell_type": "code",
   "execution_count": null,
   "metadata": {
    "ExecuteTime": {
     "end_time": "2022-10-15T01:28:22.319660Z",
     "start_time": "2022-10-15T01:28:22.319651Z"
    }
   },
   "outputs": [],
   "source": [
    "# def greet(image, temperature):\n",
    "#     salutation = \"Good morning\" if is_morning else \"Good evening\"\n",
    "#     greeting = f\"{salutation} {name}. It is {temperature} degrees today\"\n",
    "#     celsius = (temperature - 32) * 5 / 9\n",
    "#     return greeting, round(celsius, 2)\n",
    "\n",
    "# demo = gr.Interface(\n",
    "#     fn=greet,\n",
    "#     inputs=[\"image\", gr.Slider(0.01, 1, step=0.01, value=0.5)],\n",
    "#     outputs=[\"text\", \"number\"],\n",
    "# )\n",
    "\n",
    "# demo.launch()"
   ]
  },
  {
   "cell_type": "code",
   "execution_count": null,
   "metadata": {
    "ExecuteTime": {
     "end_time": "2022-10-15T01:28:22.320715Z",
     "start_time": "2022-10-15T01:28:22.320705Z"
    }
   },
   "outputs": [],
   "source": [
    "# with gr.Blocks() as demo:\n",
    "#     image = gr.Image()\n",
    "#     slider = gr.Slider(0.01, 1, step=0.01, value=0.5)\n",
    "#     image.change(set_slider, slider, slider)\n",
    "    \n",
    "# demo.launch()"
   ]
  },
  {
   "cell_type": "code",
   "execution_count": null,
   "metadata": {
    "ExecuteTime": {
     "end_time": "2022-10-15T01:28:22.321690Z",
     "start_time": "2022-10-15T01:28:22.321681Z"
    }
   },
   "outputs": [],
   "source": [
    "# demo = gr.Interface(\n",
    "#     fn=show_image,\n",
    "#     inputs=[\"image\", \"checkbox\", gr.Slider(0.01, 1, step=0.01, value=0.5)],\n",
    "#     outputs=[\"image\"],\n",
    "# )\n",
    "# demo.launch()"
   ]
  },
  {
   "cell_type": "code",
   "execution_count": null,
   "metadata": {
    "ExecuteTime": {
     "end_time": "2022-10-15T01:28:22.322623Z",
     "start_time": "2022-10-15T01:28:22.322612Z"
    }
   },
   "outputs": [],
   "source": [
    "# with gr.Blocks() as demo:\n",
    "#     output = gr.Image(label=\"Output Image\")\n",
    "\n",
    "# demo.launch()"
   ]
  },
  {
   "cell_type": "code",
   "execution_count": null,
   "metadata": {
    "ExecuteTime": {
     "end_time": "2022-10-15T01:28:22.323532Z",
     "start_time": "2022-10-15T01:28:22.323521Z"
    }
   },
   "outputs": [],
   "source": [
    "# demo = gr.Interface(\n",
    "#     fn=show_image,\n",
    "#     inputs=[\"image\", gr.Slider(0.01, 1, step=0.01, value=0.5)],\n",
    "#     outputs=[\"image\"]\n",
    "# )\n",
    "\n",
    "# demo.launch()"
   ]
  },
  {
   "cell_type": "code",
   "execution_count": null,
   "metadata": {
    "ExecuteTime": {
     "end_time": "2022-10-15T01:28:22.324455Z",
     "start_time": "2022-10-15T01:28:22.324445Z"
    }
   },
   "outputs": [],
   "source": [
    "# demo = gr.Blocks()\n",
    "\n",
    "# with demo:\n",
    "#     im = gr.Interface(show_image, gr.Image(), \"image\", tool='editor', allow_flagging=\"never\")\n",
    "# #     slider = gr.Slider(0.01, 1, step=0.01, value=0.5)\n",
    "# #     audio_file = gr.Audio(type=\"filepath\")\n",
    "# #     text = gr.Textbox()\n",
    "\n",
    "# demo.launch()"
   ]
  },
  {
   "cell_type": "code",
   "execution_count": null,
   "metadata": {
    "ExecuteTime": {
     "end_time": "2022-10-15T01:28:22.325677Z",
     "start_time": "2022-10-15T01:28:22.325665Z"
    }
   },
   "outputs": [],
   "source": [
    "# # Create widget items.\n",
    "# btn_upload = widgets.FileUpload(multiple=False)\n",
    "# output1 = widgets.Output()\n",
    "# output1.layout.height = '200px'\n",
    "# scale_factor_slider = widgets.FloatSlider(value=0.5, min=0.05, max=1, step=0.01, description=\"Scale Factor\")\n",
    "# output2 = widgets.Output()\n",
    "# output2.layout.height = '30px'\n",
    "# output3 = widgets.Output()\n",
    "# predicted_label = widgets.Label()\n",
    "# btn_run = widgets.Button(description='Count People')"
   ]
  },
  {
   "cell_type": "code",
   "execution_count": null,
   "metadata": {
    "ExecuteTime": {
     "end_time": "2022-10-15T01:28:22.326482Z",
     "start_time": "2022-10-15T01:28:22.326470Z"
    }
   },
   "outputs": [],
   "source": [
    "# # Variables\n",
    "# input_image = None\n",
    "# x_res = None\n",
    "# y_res = None"
   ]
  },
  {
   "cell_type": "code",
   "execution_count": null,
   "metadata": {
    "ExecuteTime": {
     "end_time": "2022-10-15T01:28:22.328146Z",
     "start_time": "2022-10-15T01:28:22.328131Z"
    }
   },
   "outputs": [],
   "source": [
    "# def get_scale_factor(x_res, y_res):\n",
    "#     min_res = min(x_res, y_res)\n",
    "#     max_res = max(x_res, y_res)\n",
    "#     ideal_min = 1200\n",
    "#     if min_res < ideal_min:\n",
    "#         factor = 1\n",
    "#     if min_res > ideal_min:\n",
    "#         factor = round(ideal_min / min_res, 2) + 0.01\n",
    "#         if factor > 1:\n",
    "#             factor = 1\n",
    "#     return factor\n",
    "\n",
    "\n",
    "# def get_crops_amount(input_image, scale_factor):\n",
    "#     image = rescale_image(input_image, scale_factor)\n",
    "#     img_stack, pred_stack, img_h, img_w = prepare_loaded_image(image)\n",
    "#     n_crops = len(img_stack)\n",
    "#     return n_crops\n",
    "\n",
    "\n",
    "# # Give the user some feedback and change the downscale factor, when a new image is uploaded.\n",
    "# def on_data_change(data):\n",
    "#     output1.clear_output()\n",
    "#     with output1:\n",
    "#         global input_image, x_res, y_res\n",
    "#         input_image = PILImage.create(io.BytesIO(btn_upload.data[-1]))\n",
    "#         y_res, x_res = input_image.shape\n",
    "#         display(input_image.to_thumb(150,150))\n",
    "#         if x_res<224 or y_res<224:\n",
    "#             print(f\"Image is too small to process, only {x_res}x{y_res} pixels.\")\n",
    "#             print(\"Please upload another image with at least 224 pixels in both dimensions.\")\n",
    "#         else:\n",
    "#             scale_factor = get_scale_factor(x_res, y_res)\n",
    "#             scale_factor_slider.value = scale_factor\n",
    "#             print(f\"Original image size: {x_res}x{y_res}.\")\n",
    "#             if scale_factor_slider.value < 1:\n",
    "#                 downscale_x = int(x_res * scale_factor_slider.value)\n",
    "#                 downscale_y = int(y_res * scale_factor_slider.value)\n",
    "#                 print(f\"Proposing to downscale to {downscale_x}x{downscale_y} (scale factor: {scale_factor_slider.value}).\")\n",
    "#             else:\n",
    "#                 downscale_x = x_res\n",
    "#                 downscale_y = y_res\n",
    "#                 print(\"No downscaling proposed.\")\n",
    "# #             n_crops = get_crops_amount(input_image, scale_factor_slider.value)\n",
    "# #             print(f\"Processing {n_crops} crops.\")\n",
    "# #             approximate_n_crops = round((downscale_x*downscale_y) / 30000)  # High estimate for larger images.\n",
    "# #             print(f\"Approximate {approximate_n_crops} crops.\")\n",
    "    \n",
    "# btn_upload.observe(on_data_change, names=['data'])"
   ]
  },
  {
   "cell_type": "code",
   "execution_count": null,
   "metadata": {
    "ExecuteTime": {
     "end_time": "2022-10-15T01:28:22.329099Z",
     "start_time": "2022-10-15T01:28:22.329089Z"
    }
   },
   "outputs": [],
   "source": [
    "# # Estimate processing time when changing downscale slider.\n",
    "\n",
    "# def on_slider_change(value):\n",
    "#     output2.clear_output()\n",
    "#     with output2:\n",
    "#         downscale_x = int(x_res * scale_factor_slider.value)\n",
    "#         downscale_y = int(y_res * scale_factor_slider.value)\n",
    "#         approximate_n_crops = round((downscale_x*downscale_y) / 30000) # High estimate for larger images.\n",
    "#         approximate_processing_time = int(approximate_n_crops / 6.5)  # on fast server.\n",
    "# #         approximate_processing_time = int(approximate_n_crops * 4.5)  # on slow server.\n",
    "# #         print(f\"Approximate number of crops: {approximate_n_crops}\")\n",
    "#         print(f\"Approximate processing time: {approximate_processing_time} seconds\")\n",
    "        \n",
    "# scale_factor_slider.observe(on_slider_change, 'value')"
   ]
  },
  {
   "cell_type": "code",
   "execution_count": null,
   "metadata": {
    "ExecuteTime": {
     "end_time": "2022-10-15T01:28:22.330164Z",
     "start_time": "2022-10-15T01:28:22.330154Z"
    }
   },
   "outputs": [],
   "source": [
    "# # Define click interaction.\n",
    "# def on_click_classify(change):\n",
    "# #     input_image = PILImage.create(io.BytesIO(btn_upload.data[-1]))\n",
    "#     output3.clear_output()\n",
    "#     with output3:\n",
    "        \n",
    "#         # Scale image\n",
    "#         scale_factor = scale_factor_slider.value\n",
    "# #         print(f\"Scale factor used for downscaling image: {scale_factor}\")\n",
    "#         image = rescale_image(input_image, scale_factor)\n",
    "        \n",
    "#         # Show input image\n",
    "#         #display(img.to_thumb(128,128))\n",
    "# #         plt.figure(figsize=(1920/200, 1080/200), dpi=200)\n",
    "# #         plt.figure(figsize=(1440/200, 810/200), dpi=200)\n",
    "# #         plt.imshow(image, cmap=cm.jet)\n",
    "# #         plt.title(f'Input image for the network')\n",
    "# #         plt.show()\n",
    "        \n",
    "#         # Process image\n",
    "#         img_stack, pred_stack, img_h, img_w = prepare_loaded_image(image)\n",
    "#         den, pred_cnt = process_image(img_stack, pred_stack, img_h, img_w)\n",
    "        \n",
    "#         # Show model prediction\n",
    "# #         plt.figure(figsize=(1920/200, 1080/200), dpi=200)\n",
    "#         plt.figure(figsize=(1440/200, 810/200), dpi=200)\n",
    "#         plt.imshow(den, cmap=cm.jet)\n",
    "#         plt.title(f'Predicted count: {pred_cnt:.3f}')\n",
    "#         plt.show()\n",
    "        \n",
    "#         # Show overlay\n",
    "#         show_overlay(image, den, pred_cnt)\n",
    "\n",
    "# btn_run.on_click(on_click_classify)"
   ]
  },
  {
   "cell_type": "code",
   "execution_count": null,
   "metadata": {
    "ExecuteTime": {
     "end_time": "2022-10-15T01:28:22.331142Z",
     "start_time": "2022-10-15T01:28:22.331132Z"
    },
    "scrolled": true
   },
   "outputs": [],
   "source": [
    "# # Render app.\n",
    "# # VBox([widgets.Label(\"Choose and image to upload\"),\n",
    "# VBox([widgets.HTML(value = f\"<b><font color='DarkRed'>Choose an image to upload:</b>\"),\n",
    "#       btn_upload, output1, scale_factor_slider, output2, btn_run, output3, predicted_label])"
   ]
  }
 ],
 "metadata": {
  "kernelspec": {
   "display_name": "Python 3 (ipykernel)",
   "language": "python",
   "name": "python3"
  },
  "language_info": {
   "codemirror_mode": {
    "name": "ipython",
    "version": 3
   },
   "file_extension": ".py",
   "mimetype": "text/x-python",
   "name": "python",
   "nbconvert_exporter": "python",
   "pygments_lexer": "ipython3",
   "version": "3.10.6"
  }
 },
 "nbformat": 4,
 "nbformat_minor": 2
}
